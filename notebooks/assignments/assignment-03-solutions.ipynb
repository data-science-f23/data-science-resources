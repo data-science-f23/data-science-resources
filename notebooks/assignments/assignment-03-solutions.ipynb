{
 "cells": [
  {
   "attachments": {},
   "cell_type": "markdown",
   "metadata": {},
   "source": [
    "# Data Science, Prediction, and Forecasting - Assignment 3"
   ]
  },
  {
   "attachments": {},
   "cell_type": "markdown",
   "metadata": {},
   "source": [
    "## Finding $\\pi$ without doing any integrals\n",
    "\n",
    "The area of a circle with radius $r$ is $r^2 \\pi$. Therefore the area of the unit circle (i.e., the circle with radius 1) is $\\pi$. The function for the positive arc of the unit circle is\n",
    "\n",
    "$$f^+(x) = \\sqrt{1 - x^2} \\quad \\text{for } x \\in [-1, 1].$$\n",
    "\n",
    "This means that\n",
    "\n",
    "$$\\int_{-1}^{1} \\sqrt{1 - x^2} \\mathrm{d}x = \\frac{\\pi}{2}.$$\n",
    "\n",
    "So solving this integral allows us to determine $\\pi$. However, that's hard and tedious. Fortunately, there is a way to approximate $\\pi$ to arbitrary precision using Monte Carlo sampling. In order to do that, we randomly sample an $x$ and a $y$ from the interval $[-1, 1]$. We then interpret these as coordinates in the $x,y$ plane. The area of the square we sampled from is 4. The unit circle (with area $\\pi$) fits exactly into this square.\n",
    "\n",
    "1. Explain how one can numerically approximate $\\pi$ by calculating the proportion of random samples which lie inside the unit circle.\n",
    "\n",
    "$$\\frac{\\text{Area of unit circle}}{\\text{Area of sampling region}} = \\frac{\\pi}{4} \\approx \\frac{\\text{Number of }(x, y)\\text{-Samples with }\\sqrt{x^2+y^2} \\leq 1}{\\text{Total number of samples}}.$$\n",
    "\n",
    "Therefore\n",
    "\n",
    "$$\\pi \\approx 4 \\cdot \\frac{\\text{Number of }(x, y)\\text{-Samples with }\\sqrt{x^2+y^2} \\leq 1}{\\text{Total number of samples}}.$$\n"
   ]
  },
  {
   "attachments": {},
   "cell_type": "markdown",
   "metadata": {},
   "source": [
    "\n",
    "2. Write a Python program which does exactly that."
   ]
  },
  {
   "cell_type": "code",
   "execution_count": 1,
   "metadata": {},
   "outputs": [],
   "source": [
    "import numpy as np"
   ]
  },
  {
   "cell_type": "code",
   "execution_count": 2,
   "metadata": {},
   "outputs": [],
   "source": [
    "def estimate_pi(n):\n",
    "    \"\"\"Estimate pi using n samples.\"\"\"\n",
    "    # Sample x's and y's\n",
    "    x = np.random.uniform(-1, 1, n)\n",
    "    y = np.random.uniform(-1, 1, n)\n",
    "\n",
    "    # Determine the number of points inside the circle\n",
    "    inside = np.sum(x**2 + y**2 <= 1)\n",
    "\n",
    "    # Estimate pi\n",
    "    pi = 4 * inside / n\n",
    "\n",
    "    return pi"
   ]
  },
  {
   "cell_type": "code",
   "execution_count": 3,
   "metadata": {},
   "outputs": [
    {
     "data": {
      "text/plain": [
       "3.2"
      ]
     },
     "execution_count": 3,
     "metadata": {},
     "output_type": "execute_result"
    }
   ],
   "source": [
    "estimate_pi(10)\n"
   ]
  },
  {
   "cell_type": "code",
   "execution_count": 4,
   "metadata": {},
   "outputs": [
    {
     "data": {
      "text/plain": [
       "2.92"
      ]
     },
     "execution_count": 4,
     "metadata": {},
     "output_type": "execute_result"
    }
   ],
   "source": [
    "estimate_pi(100)"
   ]
  },
  {
   "cell_type": "code",
   "execution_count": 5,
   "metadata": {},
   "outputs": [
    {
     "data": {
      "text/plain": [
       "3.164"
      ]
     },
     "execution_count": 5,
     "metadata": {},
     "output_type": "execute_result"
    }
   ],
   "source": [
    "estimate_pi(int(1e4))"
   ]
  },
  {
   "cell_type": "code",
   "execution_count": 6,
   "metadata": {},
   "outputs": [
    {
     "data": {
      "text/plain": [
       "3.1415738"
      ]
     },
     "execution_count": 6,
     "metadata": {},
     "output_type": "execute_result"
    }
   ],
   "source": [
    "estimate_pi(int(1e8))"
   ]
  },
  {
   "cell_type": "markdown",
   "metadata": {},
   "source": [
    "3. Create a graph of how your approximation evolves in the course of sampling."
   ]
  },
  {
   "cell_type": "code",
   "execution_count": 7,
   "metadata": {},
   "outputs": [],
   "source": [
    "def estimate_pi_history(n):\n",
    "    \"\"\"Estimate pi using n samples and keep track of the history of estimates.\"\"\"\n",
    "    # Sample x's and y's\n",
    "    x = np.random.uniform(-1, 1, n)\n",
    "    y = np.random.uniform(-1, 1, n)\n",
    "\n",
    "    # Cumulative sum of the number of points inside the circle\n",
    "    inside = np.cumsum(x**2 + y**2 <= 1)    \n",
    "\n",
    "    # Evolution of pi estimates\n",
    "    pi_history = 4 * inside / np.arange(1, n+1)\n",
    "\n",
    "    return pi_history"
   ]
  },
  {
   "cell_type": "code",
   "execution_count": 8,
   "metadata": {},
   "outputs": [],
   "source": [
    "# Create a history of pi estimates\n",
    "pi_history = estimate_pi_history(5000)"
   ]
  },
  {
   "cell_type": "code",
   "execution_count": 9,
   "metadata": {},
   "outputs": [
    {
     "data": {
      "image/png": "[encoded data removed]",
      "text/plain": [
       "<Figure size 640x480 with 1 Axes>"
      ]
     },
     "metadata": {},
     "output_type": "display_data"
    }
   ],
   "source": [
    "import matplotlib.pyplot as plt\n",
    "%matplotlib inline\n",
    "\n",
    "# Plot the history of pi estimates\n",
    "plt.plot(pi_history)\n",
    "# Horizontal line at the true value of pi\n",
    "plt.axhline(np.pi, color='r')\n",
    "# Labels and legend\n",
    "plt.xlabel('Number of samples')\n",
    "plt.ylabel('Estimate of pi')\n",
    "plt.legend(['Estimate', 'True value'])\n",
    "plt.show()"
   ]
  }
 ],
 "metadata": {
  "kernelspec": {
   "display_name": "sklearn",
   "language": "python",
   "name": "python3"
  },
  "language_info": {
   "codemirror_mode": {
    "name": "ipython",
    "version": 3
   },
   "file_extension": ".py",
   "mimetype": "text/x-python",
   "name": "python",
   "nbconvert_exporter": "python",
   "pygments_lexer": "ipython3",
   "version": "3.9.15"
  },
  "vscode": {
   "interpreter": {
    "hash": "52c52e6d498cbaa11eeb3ad0db0495eece1fbb1dff1d6460605a283a7eb54e39"
   }
  }
 },
 "nbformat": 4,
 "nbformat_minor": 4
}
