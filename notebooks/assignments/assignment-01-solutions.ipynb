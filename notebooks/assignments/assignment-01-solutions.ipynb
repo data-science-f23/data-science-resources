{
 "cells": [
  {
   "attachments": {},
   "cell_type": "markdown",
   "metadata": {},
   "source": [
    "# Data Science, Prediction, and Forecasting - Assignment 1"
   ]
  },
  {
   "cell_type": "markdown",
   "metadata": {},
   "source": [
    "## Expectation, Variance, and covariance\n",
    "\n",
    "Briefly discuss:\n",
    "\n",
    "- What is the intuition behind expectation, variance, and covariance? \n",
    "- What properties do they describe; how do the equations line up with your explanations?\n",
    "- What is the difference between covariance and correlation?\n",
    "- How do you interpret a covariance matrix?\n"
   ]
  },
  {
   "attachments": {},
   "cell_type": "markdown",
   "metadata": {},
   "source": [
    "Exercises: \n",
    "\n",
    "- Calculate the expectation of the vector _x_ in the code chunk below\n",
    "- Implement functions for calculating variance and covariance (eq. 1.39 and 1.41)"
   ]
  },
  {
   "cell_type": "code",
   "execution_count": 1,
   "metadata": {},
   "outputs": [],
   "source": [
    "# Numpy is the go-to library for anything involving vectors \n",
    "# and matrices in Python\n",
    "import numpy as np"
   ]
  },
  {
   "cell_type": "code",
   "execution_count": 32,
   "metadata": {},
   "outputs": [
    {
     "name": "stdout",
     "output_type": "stream",
     "text": [
      "x: [-0.55028918 -0.38581381  0.93777909 -0.15409486 -1.89389919 -0.20819534\n",
      "  0.00486944 -0.60464846 -0.5540889  -1.93240368]\n"
     ]
    }
   ],
   "source": [
    "# sampling 10 random values from a normal distribution with mean 0 and sd 1\n",
    "x = np.random.randn(10)\n",
    "print(f\"x: {x}\")"
   ]
  },
  {
   "cell_type": "code",
   "execution_count": 33,
   "metadata": {},
   "outputs": [
    {
     "name": "stdout",
     "output_type": "stream",
     "text": [
      "E(x): -0.534078490124977\n"
     ]
    }
   ],
   "source": [
    "\n",
    "# calculate the expectation of x \n",
    "Ex = np.mean(x)\n",
    "print(f\"E(x): {Ex}\")"
   ]
  },
  {
   "cell_type": "code",
   "execution_count": 34,
   "metadata": {},
   "outputs": [
    {
     "name": "stdout",
     "output_type": "stream",
     "text": [
      "E(x): -0.534078490124977\n"
     ]
    }
   ],
   "source": [
    "\n",
    "# calculate the expectation of x \n",
    "Ex = sum(x)/len(x)\n",
    "print(f\"E(x): {Ex}\")"
   ]
  },
  {
   "cell_type": "code",
   "execution_count": 14,
   "metadata": {},
   "outputs": [
    {
     "name": "stdout",
     "output_type": "stream",
     "text": [
      "my var: 0.41464244377689025\n",
      "np.var: 0.4146424437768902\n"
     ]
    }
   ],
   "source": [
    "def var(x):\n",
    "    \"Calculate variance following eq. 1.39\"\n",
    "    return np.mean(x**2) - np.mean(x)**2 \n",
    "\n",
    "# check if your results match numpy's built in function\n",
    "print(f\"my var: {var(x)}\")\n",
    "print(f\"np.var: {np.var(x)}\")"
   ]
  },
  {
   "cell_type": "code",
   "execution_count": 35,
   "metadata": {},
   "outputs": [
    {
     "name": "stdout",
     "output_type": "stream",
     "text": [
      "y: [-1.15433257  0.42435208 -0.60877069 -0.26527399 -0.13635247 -0.21176816\n",
      "  0.53403857  0.17117869  0.22072002  0.66646836]\n"
     ]
    }
   ],
   "source": [
    "# sample 10 more random variables\n",
    "y = np.random.randn(10)\n",
    "print(f\"y: {y}\")"
   ]
  },
  {
   "cell_type": "code",
   "execution_count": 23,
   "metadata": {},
   "outputs": [
    {
     "name": "stdout",
     "output_type": "stream",
     "text": [
      "my covar: 0.059073644239441114\n",
      "np.cov: 0.05907364423944109\n"
     ]
    }
   ],
   "source": [
    "\n",
    "def covar(x, y):\n",
    "     \"Calculate covariance following eq. 1.41\"\n",
    "     return np.mean(x*y) - np.mean(x)*np.mean(y)\n",
    "\n",
    "# check if result match numpy\n",
    "print(f\"my covar: {covar(x, y)}\")\n",
    "# np.cov calculates the entire covariance matrix; [0][1] extracts the \n",
    "# covariance of the variables\n",
    "print(f\"np.cov: {np.cov(x, y, ddof=0)[0][1]}\") \n",
    "# What does ddoef=0 mean?"
   ]
  },
  {
   "cell_type": "code",
   "execution_count": 24,
   "metadata": {},
   "outputs": [
    {
     "data": {
      "text/plain": [
       "array([[0.41464244, 0.05907364],\n",
       "       [0.05907364, 1.10210914]])"
      ]
     },
     "execution_count": 24,
     "metadata": {},
     "output_type": "execute_result"
    }
   ],
   "source": [
    "# How do you interpret the covariance matrix? What does the diagonal describe?\n",
    "np.cov(x, y, ddof=0)"
   ]
  },
  {
   "cell_type": "markdown",
   "metadata": {},
   "source": [
    "Why do we care about covariance matrices? \n",
    "- Useful for e.g. calculating and understanding normal distributions! Play around with the first interactive figure in [this link](https://distill.pub/2019/visual-exploration-gaussian-processes/)."
   ]
  },
  {
   "cell_type": "markdown",
   "metadata": {},
   "source": [
    "_Extra_: Implement the following two (possibly more intuitive) equations for variance and covariance"
   ]
  },
  {
   "cell_type": "markdown",
   "metadata": {},
   "source": [
    "$$var(x) =\\frac{\\sum_{i=1}^{n}(x_i - \\bar{x})^{2}}{n}$$\n",
    "\n",
    "$$cov(x, y) = \\frac{\\sum_{i=1}^{n}(x_i - \\bar{x})(y_i - \\bar{y})}{n}$$"
   ]
  },
  {
   "cell_type": "code",
   "execution_count": 25,
   "metadata": {},
   "outputs": [],
   "source": [
    "def var2(x):\n",
    "    \"Calculate variance\"\n",
    "    return sum((x - np.mean(x))**2)/len(x)"
   ]
  },
  {
   "cell_type": "code",
   "execution_count": 28,
   "metadata": {},
   "outputs": [
    {
     "name": "stdout",
     "output_type": "stream",
     "text": [
      "my var: 0.41464244377689025\n",
      "my var: 0.4146424437768902\n",
      "np.var: 0.4146424437768902\n"
     ]
    }
   ],
   "source": [
    "print(f\"my var: {var(x)}\")\n",
    "print(f\"my var2: {var2(x)}\")\n",
    "print(f\"np.var: {np.var(x)}\")"
   ]
  },
  {
   "cell_type": "code",
   "execution_count": 26,
   "metadata": {},
   "outputs": [],
   "source": [
    "def covar2(x, y):\n",
    "    \"Calculate covariance\"\n",
    "    return sum((x - np.mean(x))*(y - np.mean(y)))/len(x)"
   ]
  },
  {
   "cell_type": "code",
   "execution_count": 31,
   "metadata": {},
   "outputs": [
    {
     "name": "stdout",
     "output_type": "stream",
     "text": [
      "my covar: 0.059073644239441114\n",
      "my covar2: 0.05907364423944108\n",
      "np.cov: 0.05907364423944109\n"
     ]
    }
   ],
   "source": [
    "print(f\"my covar: {covar(x, y)}\")\n",
    "print(f\"my covar2: {covar2(x, y)}\")\n",
    "print(f\"np.cov: {np.cov(x, y, ddof=0)[0][1]}\")"
   ]
  },
  {
   "cell_type": "markdown",
   "metadata": {},
   "source": [
    "Done already? Take a stab at any other exercises from the book!"
   ]
  }
 ],
 "metadata": {
  "kernelspec": {
   "display_name": "sklearn",
   "language": "python",
   "name": "python3"
  },
  "language_info": {
   "codemirror_mode": {
    "name": "ipython",
    "version": 3
   },
   "file_extension": ".py",
   "mimetype": "text/x-python",
   "name": "python",
   "nbconvert_exporter": "python",
   "pygments_lexer": "ipython3",
   "version": "3.9.15"
  },
  "vscode": {
   "interpreter": {
    "hash": "52c52e6d498cbaa11eeb3ad0db0495eece1fbb1dff1d6460605a283a7eb54e39"
   }
  }
 },
 "nbformat": 4,
 "nbformat_minor": 4
}
